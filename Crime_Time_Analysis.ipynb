{
 "cells": [
  {
   "cell_type": "markdown",
   "id": "2e4077df",
   "metadata": {},
   "source": [
    "# Crime by Time of day Analysis (Q3)"
   ]
  },
  {
   "cell_type": "code",
   "execution_count": null,
   "id": "3b9de755",
   "metadata": {},
   "outputs": [],
   "source": [
    "import hvplot.pandas\n",
    "import pandas as pd\n",
    "import matplotlib.pyplot as plt\n",
    "import warnings\n",
    "import datetime as dt\n",
    "import numpy as np\n",
    "import scipy.stats as stats\n",
    "warnings.filterwarnings(\"ignore\")\n",
    "csv_path = \"Cleaned_Crime_Data.csv\"\n",
    "crime_data = pd.read_csv(csv_path)"
   ]
  },
  {
   "cell_type": "code",
   "execution_count": null,
   "id": "623d59fb",
   "metadata": {},
   "outputs": [],
   "source": [
    "crime_subset = crime_data[(crime_data[\"Crime Code Description\"] == \"CRIMINAL HOMICIDE\") |(crime_data[\"Crime Code Description\"] == \"ARSON\") |(crime_data[\"Crime Code Description\"] == \"KIDNAPPING\")|(crime_data[\"Crime Code Description\"] == \"THROWING OBJECT AT MOVING VEHICLE\") |(crime_data[\"Crime Code Description\"] == \"PICKPOCKET\")]\n",
    "crime_subset.info()"
   ]
  },
  {
   "cell_type": "code",
   "execution_count": null,
   "id": "ba607909",
   "metadata": {},
   "outputs": [],
   "source": [
    "bins = [0, 99, 199, 299, 399, 499, 599, 699, 799, 899,999,1099,1199,1299,1399,1499,1599,1699,1799,1899,1999,\n",
    "       2099,2199,2299,2399]\n",
    "\n",
    "# Create labels for these bins\n",
    "group_labels = [\"12AM\", \"1AM\", \"2AM\", \"3AM\", \"4AM\", \"5AM\",\n",
    "                \"6AM\", \"7AM\", \"8AM\", \"9AM\",\"10AM\",\"11AM\",\"12PM\",\n",
    "                \"1PM\",\"2PM\",\"3PM\",\"4PM\",\"5PM\",\"6PM\",\"7PM\",\"8PM\",\"9PM\",\"10PM\",\"11PM\"]\n",
    "\n",
    "crime_subset[\"Time of Day\"] = pd.cut(crime_subset[\"Time Occurred\"], bins, labels=group_labels)\n",
    "crimes_times = crime_subset[\"Time of Day\"].value_counts()\n",
    "times = crime_subset[\"Time of Day\"].unique()\n",
    "plt.figure(figsize=(10,4))\n",
    "plt.bar(times,crimes_times,color = \"blue\", alpha = .5)\n",
    "#plt.bar(crimes,crimes_per_area, color = \"orange\")\n",
    "plt.xticks(times, rotation = 45)\n",
    "plt.show()"
   ]
  },
  {
   "cell_type": "code",
   "execution_count": null,
   "id": "8586c83d",
   "metadata": {},
   "outputs": [],
   "source": [
    "bins = [0,499,1199,1799,2399]\n",
    "group_labels = [\"Early Morning\",\"Morning\",\"Afternoon\",\"Night\"]\n",
    "crime_subset[\"Time Category\"] = pd.cut(crime_subset[\"Time Occurred\"], bins, labels=group_labels)\n",
    "times = crime_subset[\"Time Category\"].value_counts().plot(kind=\"pie\", ylabel = ' ', title = \"Crime by Time of Day\")"
   ]
  },
  {
   "cell_type": "code",
   "execution_count": null,
   "id": "fe3ec6f1",
   "metadata": {},
   "outputs": [],
   "source": [
    "murder = crime_subset[crime_subset[\"Crime Code Description\"] == \"CRIMINAL HOMICIDE\"]\n",
    "murder_areas = murder[\"Time Category\"].value_counts()\n",
    "murderplot = murder_areas.plot.pie(figsize = (5,5),title = \"When does Murder Happen?\",ylabel = \" \")\n",
    "\n",
    "arson = crime_subset[crime_subset[\"Crime Code Description\"] == \"ARSON\"]\n",
    "arson_areas = arson[\"Time Category\"].value_counts()\n",
    "arsonplot = arson_areas.plot.pie(figsize = (5,5),title = \"When Does Arson Happen?\")\n",
    "arsonplot.axes.set_ylabel('')\n",
    "\n",
    "kidnap = crime_subset[crime_subset[\"Crime Code Description\"] == \"KIDNAPPING\"]\n",
    "kidnap_areas = kidnap[\"Time Category\"].value_counts()\n",
    "kidplot = kidnap_areas.plot.pie(figsize = (5,5), title = \"When Does Kidnapping Happen?\" )\n",
    "kidplot.axes.set_ylabel('')\n",
    "\n",
    "pick = crime_subset[crime_subset[\"Crime Code Description\"] == \"PICKPOCKET\"]\n",
    "pick_areas = pick[\"Time Category\"].value_counts()\n",
    "pickplot = pick_areas.plot.pie(figsize = (5,5), title = \"When Does Pickpocketing Happen?\")\n",
    "pickplot.axes.set_ylabel('')\n",
    "\n",
    "throwing = crime_subset[crime_subset[\"Crime Code Description\"] == \"THROWING OBJECT AT MOVING VEHICLE\"]\n",
    "throwing_areas = throwing[\"Time Category\"].value_counts()\n",
    "throwplot = throwing_areas.plot.pie(figsize = (5,5),title = \"When do things get thrown at vehicles?\")\n",
    "throwplot.axes.set_ylabel('')"
   ]
  }
 ],
 "metadata": {
  "kernelspec": {
   "display_name": "Python 3 (ipykernel)",
   "language": "python",
   "name": "python3"
  },
  "language_info": {
   "codemirror_mode": {
    "name": "ipython",
    "version": 3
   },
   "file_extension": ".py",
   "mimetype": "text/x-python",
   "name": "python",
   "nbconvert_exporter": "python",
   "pygments_lexer": "ipython3",
   "version": "3.10.10"
  }
 },
 "nbformat": 4,
 "nbformat_minor": 5
}
